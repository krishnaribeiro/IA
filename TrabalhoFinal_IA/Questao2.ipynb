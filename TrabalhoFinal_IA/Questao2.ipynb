{
  "nbformat": 4,
  "nbformat_minor": 0,
  "metadata": {
    "colab": {
      "provenance": []
    },
    "kernelspec": {
      "name": "python3",
      "display_name": "Python 3"
    },
    "language_info": {
      "name": "python"
    }
  },
  "cells": [
    {
      "cell_type": "code",
      "execution_count": null,
      "metadata": {
        "id": "friJ2bVxHNT2",
        "colab": {
          "base_uri": "https://localhost:8080/"
        },
        "outputId": "9b5caef9-1802-459a-d9dc-6dccacf9368a"
      },
      "outputs": [
        {
          "output_type": "stream",
          "name": "stdout",
          "text": [
            "Requirement already satisfied: LTNtorch in /usr/local/lib/python3.10/dist-packages (1.0.1)\n",
            "Requirement already satisfied: numpy in /usr/local/lib/python3.10/dist-packages (from LTNtorch) (1.26.4)\n",
            "Requirement already satisfied: torch in /usr/local/lib/python3.10/dist-packages (from LTNtorch) (2.3.1+cu121)\n",
            "Requirement already satisfied: filelock in /usr/local/lib/python3.10/dist-packages (from torch->LTNtorch) (3.15.4)\n",
            "Requirement already satisfied: typing-extensions>=4.8.0 in /usr/local/lib/python3.10/dist-packages (from torch->LTNtorch) (4.12.2)\n",
            "Requirement already satisfied: sympy in /usr/local/lib/python3.10/dist-packages (from torch->LTNtorch) (1.13.1)\n",
            "Requirement already satisfied: networkx in /usr/local/lib/python3.10/dist-packages (from torch->LTNtorch) (3.3)\n",
            "Requirement already satisfied: jinja2 in /usr/local/lib/python3.10/dist-packages (from torch->LTNtorch) (3.1.4)\n",
            "Requirement already satisfied: fsspec in /usr/local/lib/python3.10/dist-packages (from torch->LTNtorch) (2024.6.1)\n",
            "Requirement already satisfied: nvidia-cuda-nvrtc-cu12==12.1.105 in /usr/local/lib/python3.10/dist-packages (from torch->LTNtorch) (12.1.105)\n",
            "Requirement already satisfied: nvidia-cuda-runtime-cu12==12.1.105 in /usr/local/lib/python3.10/dist-packages (from torch->LTNtorch) (12.1.105)\n",
            "Requirement already satisfied: nvidia-cuda-cupti-cu12==12.1.105 in /usr/local/lib/python3.10/dist-packages (from torch->LTNtorch) (12.1.105)\n",
            "Requirement already satisfied: nvidia-cudnn-cu12==8.9.2.26 in /usr/local/lib/python3.10/dist-packages (from torch->LTNtorch) (8.9.2.26)\n",
            "Requirement already satisfied: nvidia-cublas-cu12==12.1.3.1 in /usr/local/lib/python3.10/dist-packages (from torch->LTNtorch) (12.1.3.1)\n",
            "Requirement already satisfied: nvidia-cufft-cu12==11.0.2.54 in /usr/local/lib/python3.10/dist-packages (from torch->LTNtorch) (11.0.2.54)\n",
            "Requirement already satisfied: nvidia-curand-cu12==10.3.2.106 in /usr/local/lib/python3.10/dist-packages (from torch->LTNtorch) (10.3.2.106)\n",
            "Requirement already satisfied: nvidia-cusolver-cu12==11.4.5.107 in /usr/local/lib/python3.10/dist-packages (from torch->LTNtorch) (11.4.5.107)\n",
            "Requirement already satisfied: nvidia-cusparse-cu12==12.1.0.106 in /usr/local/lib/python3.10/dist-packages (from torch->LTNtorch) (12.1.0.106)\n",
            "Requirement already satisfied: nvidia-nccl-cu12==2.20.5 in /usr/local/lib/python3.10/dist-packages (from torch->LTNtorch) (2.20.5)\n",
            "Requirement already satisfied: nvidia-nvtx-cu12==12.1.105 in /usr/local/lib/python3.10/dist-packages (from torch->LTNtorch) (12.1.105)\n",
            "Requirement already satisfied: triton==2.3.1 in /usr/local/lib/python3.10/dist-packages (from torch->LTNtorch) (2.3.1)\n",
            "Requirement already satisfied: nvidia-nvjitlink-cu12 in /usr/local/lib/python3.10/dist-packages (from nvidia-cusolver-cu12==11.4.5.107->torch->LTNtorch) (12.6.20)\n",
            "Requirement already satisfied: MarkupSafe>=2.0 in /usr/local/lib/python3.10/dist-packages (from jinja2->torch->LTNtorch) (2.1.5)\n",
            "Requirement already satisfied: mpmath<1.4,>=1.1.0 in /usr/local/lib/python3.10/dist-packages (from sympy->torch->LTNtorch) (1.3.0)\n"
          ]
        }
      ],
      "source": [
        "!pip install LTNtorch\n",
        "import torch\n",
        "import numpy as np\n",
        "import pandas as pd\n",
        "import ltn\n",
        "import matplotlib.pyplot as plt"
      ]
    },
    {
      "cell_type": "code",
      "source": [
        "data_100 = '/content/trains_data_100 - trains-data.csv'\n",
        "data_10  = '/content/trains-data.csv'"
      ],
      "metadata": {
        "id": "2tWFKlLxKPK2"
      },
      "execution_count": null,
      "outputs": []
    },
    {
      "cell_type": "markdown",
      "source": [
        "# Questão 2\n",
        "Implemente uma solução em LTNTorch para o problema dos trens\n",
        "considerando os 11 predicados."
      ],
      "metadata": {
        "id": "hJd_ABSkJrlU"
      }
    },
    {
      "cell_type": "markdown",
      "source": [
        "## Preciso criar, em LTNTorch, um modelo que aprenda os 11 predicados a seguir:\n",
        "1. num_cars(t, nc), em que t ∊ [1..10] e nc ∊ [3..5].\n",
        "2. num_loads(t, nl) em que t ∊ [1..10] e nl ∊ [1..4].\n",
        "3. num_wheels(t, c, w) em que t ∊ [1..10] e c ∊ [1..4] e w ∊ [2..3].\n",
        "4. length(t, c, l) em que t ∊ [1..10] e c ∊ [1..4] e l ∊ [-1..1] (-1 denota curto e 1 longo)\n",
        "5. shape(t, c, s) em que t ∊ [1..10] e c ∊ [1..4] e s ∊ [1..10] (um número para\n",
        "cada forma).\n",
        "6. num_cars_loads(t, c, ncl) em que t ∊ [1..10] e c ∊ [1..4] e ncl ∊ [0..3].\n",
        "7. load_shape(t, c, ls) em que t ∊ [1..10] e c ∊ [1..4] e ls ∊ [1..4].\n",
        "8. next_crc(t, c, x) em que t ∊ [1..10] e c ∊ [1..4] e x ∊ [-1..1], em que o vagão c do trem t tem um vagão adjacente com cargas em círculo.\n",
        "9. next_hex(t, c, x) em que t ∊ [1..10] e c ∊ [1..4] e x ∊ [-1..1], em que o vagão c do trem t tem um vagão adjacente com cargas em hexágono.\n",
        "10. next_rec(t, c, x) em que t ∊ [1..10] e c ∊ [1..4] e x ∊ [-1..1], em que o vagão c do trem t tem um vagão adjacente com cargas em retângulo.\n",
        "11. next_tri(t, c, x) em que t ∊ [1..10] e c ∊ [1..4] e x ∊ [-1..1], em que o vagão c do trem t tem um vagão adjacente com cargas em triângulo"
      ],
      "metadata": {
        "id": "y5tzAiCoJrd4"
      }
    },
    {
      "cell_type": "code",
      "source": [
        "df10  = pd.read_csv(data_10)\n",
        "df100 = pd.read_csv(data_100)"
      ],
      "metadata": {
        "id": "tF-90G0iXNdy"
      },
      "execution_count": null,
      "outputs": []
    },
    {
      "cell_type": "code",
      "source": [
        "df10.info()"
      ],
      "metadata": {
        "id": "qIbDcfL8XXYa",
        "colab": {
          "base_uri": "https://localhost:8080/"
        },
        "outputId": "6f008093-7576-4587-8d00-f46a2d00b989"
      },
      "execution_count": null,
      "outputs": [
        {
          "output_type": "stream",
          "name": "stdout",
          "text": [
            "<class 'pandas.core.frame.DataFrame'>\n",
            "RangeIndex: 10 entries, 0 to 9\n",
            "Data columns (total 33 columns):\n",
            " #   Column                       Non-Null Count  Dtype  \n",
            "---  ------                       --------------  -----  \n",
            " 0   Number_of_cars               10 non-null     int64  \n",
            " 1   Number_of_different_loads    10 non-null     int64  \n",
            " 2   num_wheels1                  10 non-null     int64  \n",
            " 3   length1                      10 non-null     object \n",
            " 4   shape1                       10 non-null     object \n",
            " 5   num_loads1                   10 non-null     int64  \n",
            " 6   load_shape1                  10 non-null     object \n",
            " 7   num_wheels2                  10 non-null     int64  \n",
            " 8   length2                      10 non-null     object \n",
            " 9   shape2                       10 non-null     object \n",
            " 10  num_loads2                   10 non-null     int64  \n",
            " 11  load_shape2                  10 non-null     object \n",
            " 12  num_wheels3                  7 non-null      float64\n",
            " 13  length3                      7 non-null      object \n",
            " 14  shape3                       7 non-null      object \n",
            " 15  num_loads3                   7 non-null      float64\n",
            " 16  load_shape3                  6 non-null      object \n",
            " 17  num_wheels4                  3 non-null      float64\n",
            " 18  length4                      3 non-null      object \n",
            " 19  shape4                       3 non-null      object \n",
            " 20  num_loads4                   3 non-null      float64\n",
            " 21  load_shape4                  3 non-null      object \n",
            " 22  Rectangle_next_to_rectangle  10 non-null     int64  \n",
            " 23  Rectangle_next_to_triangle   10 non-null     int64  \n",
            " 24  Rectangle_next_to_hexagon    10 non-null     int64  \n",
            " 25  Rectangle_next_to_circle     10 non-null     int64  \n",
            " 26  Triangle_next_to_triangle    10 non-null     int64  \n",
            " 27  Triangle_next_to_hexagon     10 non-null     int64  \n",
            " 28  Triangle_next_to_circle      10 non-null     int64  \n",
            " 29  Hexagon_next_to_hexagon      10 non-null     int64  \n",
            " 30  Hexagon_next_to_circle       10 non-null     int64  \n",
            " 31  Circle_next_to_circle        10 non-null     int64  \n",
            " 32  Class_attribute              10 non-null     object \n",
            "dtypes: float64(4), int64(16), object(13)\n",
            "memory usage: 2.7+ KB\n"
          ]
        }
      ]
    },
    {
      "cell_type": "code",
      "source": [
        "df100.info()"
      ],
      "metadata": {
        "id": "-ubV9PnoXlh2",
        "colab": {
          "base_uri": "https://localhost:8080/"
        },
        "outputId": "a1fbe670-fad4-4537-c93f-995f91afb051"
      },
      "execution_count": null,
      "outputs": [
        {
          "output_type": "stream",
          "name": "stdout",
          "text": [
            "<class 'pandas.core.frame.DataFrame'>\n",
            "RangeIndex: 100 entries, 0 to 99\n",
            "Data columns (total 33 columns):\n",
            " #   Column                       Non-Null Count  Dtype  \n",
            "---  ------                       --------------  -----  \n",
            " 0   Number_of_cars               100 non-null    int64  \n",
            " 1   Number_of_different_loads    100 non-null    int64  \n",
            " 2   num_wheels1                  100 non-null    int64  \n",
            " 3   length1                      100 non-null    object \n",
            " 4   shape1                       100 non-null    object \n",
            " 5   num_loads1                   100 non-null    int64  \n",
            " 6   load_shape1                  98 non-null     object \n",
            " 7   num_wheels2                  100 non-null    int64  \n",
            " 8   length2                      100 non-null    object \n",
            " 9   shape2                       100 non-null    object \n",
            " 10  num_loads2                   97 non-null     float64\n",
            " 11  load_shape2                  97 non-null     object \n",
            " 12  num_wheels3                  75 non-null     float64\n",
            " 13  length3                      74 non-null     object \n",
            " 14  shape3                       74 non-null     object \n",
            " 15  num_loads3                   73 non-null     float64\n",
            " 16  load_shape3                  72 non-null     object \n",
            " 17  num_wheels4                  37 non-null     float64\n",
            " 18  length4                      37 non-null     object \n",
            " 19  shape4                       37 non-null     object \n",
            " 20  num_loads4                   37 non-null     float64\n",
            " 21  load_shape4                  37 non-null     object \n",
            " 22  Rectangle_next_to_rectangle  100 non-null    int64  \n",
            " 23  Rectangle_next_to_triangle   100 non-null    int64  \n",
            " 24  Rectangle_next_to_hexagon    100 non-null    int64  \n",
            " 25  Rectangle_next_to_circle     100 non-null    int64  \n",
            " 26  Triangle_next_to_triangle    100 non-null    int64  \n",
            " 27  Triangle_next_to_hexagon     100 non-null    int64  \n",
            " 28  Triangle_next_to_circle      100 non-null    int64  \n",
            " 29  Hexagon_next_to_hexagon      100 non-null    int64  \n",
            " 30  Hexagon_next_to_circle       100 non-null    int64  \n",
            " 31  Circle_next_to_circle        100 non-null    int64  \n",
            " 32  Class_attribute              100 non-null    object \n",
            "dtypes: float64(5), int64(15), object(13)\n",
            "memory usage: 25.9+ KB\n"
          ]
        }
      ]
    },
    {
      "cell_type": "code",
      "source": [
        "# Nan treatment\n",
        "def input_nan(df, columns, value):\n",
        "  for col in columns:\n",
        "    df[col] = df[col].fillna(value)\n",
        "  return df\n",
        "\n",
        "categorical_columns = [[f'length{i}', f'shape{i}', f'load_shape{i}'] for i in range(1, 5)]\n",
        "categorical_columns = [item for sublist in categorical_columns for item in sublist]\n",
        "input_value = \"\"\n",
        "df10 = input_nan(df10, categorical_columns, input_value)\n",
        "df100 = input_nan(df100, categorical_columns, input_value)"
      ],
      "metadata": {
        "id": "5oxlJtVReOJT"
      },
      "execution_count": null,
      "outputs": []
    },
    {
      "cell_type": "code",
      "source": [
        "numerical_columns = [[f'num_wheels{i}', f'num_loads{i}'] for i in range(1, 5)]\n",
        "numerical_columns = [item for sublist in numerical_columns for item in sublist]\n",
        "input_value = 0\n",
        "df10 = input_nan(df10, numerical_columns, input_value)\n",
        "df100 = input_nan(df100, numerical_columns, input_value)"
      ],
      "metadata": {
        "id": "r3SBDl-EgM3I"
      },
      "execution_count": null,
      "outputs": []
    },
    {
      "cell_type": "code",
      "source": [
        "df10.info()"
      ],
      "metadata": {
        "id": "hdQkdU0Og9Dd",
        "colab": {
          "base_uri": "https://localhost:8080/"
        },
        "outputId": "4acec855-6c69-4f59-98dc-7a69523f10d2"
      },
      "execution_count": null,
      "outputs": [
        {
          "output_type": "stream",
          "name": "stdout",
          "text": [
            "<class 'pandas.core.frame.DataFrame'>\n",
            "RangeIndex: 10 entries, 0 to 9\n",
            "Data columns (total 33 columns):\n",
            " #   Column                       Non-Null Count  Dtype  \n",
            "---  ------                       --------------  -----  \n",
            " 0   Number_of_cars               10 non-null     int64  \n",
            " 1   Number_of_different_loads    10 non-null     int64  \n",
            " 2   num_wheels1                  10 non-null     int64  \n",
            " 3   length1                      10 non-null     object \n",
            " 4   shape1                       10 non-null     object \n",
            " 5   num_loads1                   10 non-null     int64  \n",
            " 6   load_shape1                  10 non-null     object \n",
            " 7   num_wheels2                  10 non-null     int64  \n",
            " 8   length2                      10 non-null     object \n",
            " 9   shape2                       10 non-null     object \n",
            " 10  num_loads2                   10 non-null     int64  \n",
            " 11  load_shape2                  10 non-null     object \n",
            " 12  num_wheels3                  10 non-null     float64\n",
            " 13  length3                      10 non-null     object \n",
            " 14  shape3                       10 non-null     object \n",
            " 15  num_loads3                   10 non-null     float64\n",
            " 16  load_shape3                  10 non-null     object \n",
            " 17  num_wheels4                  10 non-null     float64\n",
            " 18  length4                      10 non-null     object \n",
            " 19  shape4                       10 non-null     object \n",
            " 20  num_loads4                   10 non-null     float64\n",
            " 21  load_shape4                  10 non-null     object \n",
            " 22  Rectangle_next_to_rectangle  10 non-null     int64  \n",
            " 23  Rectangle_next_to_triangle   10 non-null     int64  \n",
            " 24  Rectangle_next_to_hexagon    10 non-null     int64  \n",
            " 25  Rectangle_next_to_circle     10 non-null     int64  \n",
            " 26  Triangle_next_to_triangle    10 non-null     int64  \n",
            " 27  Triangle_next_to_hexagon     10 non-null     int64  \n",
            " 28  Triangle_next_to_circle      10 non-null     int64  \n",
            " 29  Hexagon_next_to_hexagon      10 non-null     int64  \n",
            " 30  Hexagon_next_to_circle       10 non-null     int64  \n",
            " 31  Circle_next_to_circle        10 non-null     int64  \n",
            " 32  Class_attribute              10 non-null     object \n",
            "dtypes: float64(4), int64(16), object(13)\n",
            "memory usage: 2.7+ KB\n"
          ]
        }
      ]
    },
    {
      "cell_type": "code",
      "source": [
        "df100.info()"
      ],
      "metadata": {
        "id": "yf8iYEpjg_mS",
        "colab": {
          "base_uri": "https://localhost:8080/"
        },
        "outputId": "bc6bfc19-4355-484a-8524-257cf78adb90"
      },
      "execution_count": null,
      "outputs": [
        {
          "output_type": "stream",
          "name": "stdout",
          "text": [
            "<class 'pandas.core.frame.DataFrame'>\n",
            "RangeIndex: 100 entries, 0 to 99\n",
            "Data columns (total 33 columns):\n",
            " #   Column                       Non-Null Count  Dtype  \n",
            "---  ------                       --------------  -----  \n",
            " 0   Number_of_cars               100 non-null    int64  \n",
            " 1   Number_of_different_loads    100 non-null    int64  \n",
            " 2   num_wheels1                  100 non-null    int64  \n",
            " 3   length1                      100 non-null    object \n",
            " 4   shape1                       100 non-null    object \n",
            " 5   num_loads1                   100 non-null    int64  \n",
            " 6   load_shape1                  100 non-null    object \n",
            " 7   num_wheels2                  100 non-null    int64  \n",
            " 8   length2                      100 non-null    object \n",
            " 9   shape2                       100 non-null    object \n",
            " 10  num_loads2                   100 non-null    float64\n",
            " 11  load_shape2                  100 non-null    object \n",
            " 12  num_wheels3                  100 non-null    float64\n",
            " 13  length3                      100 non-null    object \n",
            " 14  shape3                       100 non-null    object \n",
            " 15  num_loads3                   100 non-null    float64\n",
            " 16  load_shape3                  100 non-null    object \n",
            " 17  num_wheels4                  100 non-null    float64\n",
            " 18  length4                      100 non-null    object \n",
            " 19  shape4                       100 non-null    object \n",
            " 20  num_loads4                   100 non-null    float64\n",
            " 21  load_shape4                  100 non-null    object \n",
            " 22  Rectangle_next_to_rectangle  100 non-null    int64  \n",
            " 23  Rectangle_next_to_triangle   100 non-null    int64  \n",
            " 24  Rectangle_next_to_hexagon    100 non-null    int64  \n",
            " 25  Rectangle_next_to_circle     100 non-null    int64  \n",
            " 26  Triangle_next_to_triangle    100 non-null    int64  \n",
            " 27  Triangle_next_to_hexagon     100 non-null    int64  \n",
            " 28  Triangle_next_to_circle      100 non-null    int64  \n",
            " 29  Hexagon_next_to_hexagon      100 non-null    int64  \n",
            " 30  Hexagon_next_to_circle       100 non-null    int64  \n",
            " 31  Circle_next_to_circle        100 non-null    int64  \n",
            " 32  Class_attribute              100 non-null    object \n",
            "dtypes: float64(5), int64(15), object(13)\n",
            "memory usage: 25.9+ KB\n"
          ]
        }
      ]
    },
    {
      "cell_type": "code",
      "source": [
        "df100.load_shape1.unique(), df100.load_shape2.unique(), df100.load_shape3.unique(), df100.load_shape4.unique()"
      ],
      "metadata": {
        "colab": {
          "base_uri": "https://localhost:8080/"
        },
        "id": "rmqi0JC1fO_7",
        "outputId": "c51f04f1-d049-4340-bc17-3dff2bc0cafb"
      },
      "execution_count": null,
      "outputs": [
        {
          "output_type": "execute_result",
          "data": {
            "text/plain": [
              "(array(['rectanglod(short)', 'circlelod', 'rectanglod(medium)',\n",
              "        'rectanglod(long)', 'trianglod', 'invtrianglod', 'hexaglod', '',\n",
              "        'upsidedowntri'], dtype=object),\n",
              " array(['trianglod', 'rectanglod(medium)', 'rectanglod(short)',\n",
              "        'circlelod', 'rectanglod(long)', 'diamondlod', 'invtrianglod',\n",
              "        'hexaglod', '', 'rectanglod'], dtype=object),\n",
              " array(['rectanglod(long)', 'circlelod', 'trianglod', 'rectanglod(medium)',\n",
              "        '', 'rectanglod(short)', 'invtrianglod', 'hexaglod', 'diamondlod'],\n",
              "       dtype=object),\n",
              " array(['', 'circlelod', 'trianglod', 'rectanglod(medium)',\n",
              "        'rectanglod(long)', 'diamondlod', 'rectanglod(short)'],\n",
              "       dtype=object))"
            ]
          },
          "metadata": {},
          "execution_count": 295
        }
      ]
    },
    {
      "cell_type": "code",
      "source": [
        "from sklearn.preprocessing import OneHotEncoder, MinMaxScaler\n",
        "\n",
        "def transform_dataframe(df):\n",
        "    # List to hold the new rows\n",
        "    transformed_rows = []\n",
        "\n",
        "    for idx, row in df.iterrows():\n",
        "        train_number = idx\n",
        "        num_cars = row[\"Number_of_cars\"]\n",
        "        num_loads = row[\"Number_of_different_loads\"]\n",
        "        direction = row[\"Class_attribute\"]\n",
        "        # Iterate through each car in the train\n",
        "        for i in range(1, num_cars): # num_cars counts the train head itself, which is not used for any features.\n",
        "            car_number = i\n",
        "            num_wheels = row[f\"num_wheels{i}\"]\n",
        "            length = row[f\"length{i}\"]\n",
        "            shape = row[f\"shape{i}\"]\n",
        "            num_loads_i = row[f\"num_loads{i}\"]\n",
        "            load_shape = row[f\"load_shape{i}\"]\n",
        "\n",
        "            # Determine the next shape values based on current shape\n",
        "            match shape:\n",
        "              case _ if \"circle\" in shape:\n",
        "                  next_crc = row[\"Circle_next_to_circle\"]\n",
        "                  next_hex = 0\n",
        "                  next_rec = 0\n",
        "                  next_tri = 0\n",
        "              case _ if \"rect\" in shape:\n",
        "                  next_crc = row[\"Rectangle_next_to_circle\"]\n",
        "                  next_hex = row[\"Rectangle_next_to_hexagon\"]\n",
        "                  next_rec = row[\"Rectangle_next_to_rectangle\"]\n",
        "                  next_tri = row[\"Rectangle_next_to_triangle\"]\n",
        "              case _ if \"tri\" in shape:\n",
        "                   next_crc = row[\"Triangle_next_to_circle\"]\n",
        "                   next_hex = row[\"Triangle_next_to_hexagon\"]\n",
        "                   next_rec = 0\n",
        "                   next_tri = row[\"Triangle_next_to_triangle\"]\n",
        "              case _ if \"hex\" in shape:\n",
        "                  next_crc = row[\"Hexagon_next_to_circle\"]\n",
        "                  next_hex = row[\"Hexagon_next_to_hexagon\"]\n",
        "                  next_rec = 0\n",
        "                  next_tri = 0\n",
        "              case _:\n",
        "                  next_crc = 0\n",
        "                  next_hex = 0\n",
        "                  next_rec = 0\n",
        "                  next_tri = 0\n",
        "\n",
        "            # Append the new row\n",
        "            transformed_rows.append({\n",
        "                \"train_number\": train_number,\n",
        "                \"num_cars\": num_cars,\n",
        "                \"num_loads\": num_loads,\n",
        "                \"num_wheels\": num_wheels,\n",
        "                \"car_number\": car_number,\n",
        "                \"length\": length,\n",
        "                \"shape\": shape,\n",
        "                \"num_cars_loads\": num_loads_i,\n",
        "                \"load_shape\": load_shape,\n",
        "                \"next_crc\": next_crc,\n",
        "                \"next_hex\": next_hex,\n",
        "                \"next_rec\": next_rec,\n",
        "                \"next_tri\": next_tri,\n",
        "                \"direction\": direction\n",
        "            })\n",
        "\n",
        "    # Create a new DataFrame from the transformed rows\n",
        "    transformed_df = pd.DataFrame(transformed_rows)\n",
        "    return transformed_df\n",
        "\n",
        "# Example usage\n",
        "transformed_df = transform_dataframe(df100)\n",
        "transformed_df_10 = transform_dataframe(df10)"
      ],
      "metadata": {
        "id": "lfUWggdcS8AS"
      },
      "execution_count": null,
      "outputs": []
    },
    {
      "cell_type": "code",
      "source": [
        "import ltn\n",
        "\n",
        "# we define the constants\n",
        "l_W = ltn.Constant(torch.tensor([1, 0]))\n",
        "l_E = ltn.Constant(torch.tensor([0, 1]))\n",
        "\n",
        "# we define predicate P\n",
        "class MLP(torch.nn.Module):\n",
        "    \"\"\"\n",
        "    This model returns the logits for the classes given an input example. It does not compute the softmax, so the output\n",
        "    are not normalized.\n",
        "    This is done to separate the accuracy computation from the satisfaction level computation. Go through the example\n",
        "    to understand it.\n",
        "    \"\"\"\n",
        "    def __init__(self, layer_sizes=(16, 64, 32, 8, 2)):\n",
        "        super(MLP, self).__init__()\n",
        "        self.elu = torch.nn.ELU()\n",
        "        self.dropout = torch.nn.Dropout(0.5)\n",
        "        self.linear_layers = torch.nn.ModuleList([torch.nn.Linear(layer_sizes[i - 1], layer_sizes[i])\n",
        "                                                  for i in range(1, len(layer_sizes))])\n",
        "\n",
        "    def forward(self, x, training=False):\n",
        "        \"\"\"\n",
        "        Method which defines the forward phase of the neural network for our multi class classification task.\n",
        "        In particular, it returns the logits for the classes given an input example.\n",
        "\n",
        "        :param x: the features of the example\n",
        "        :param training: whether the network is in training mode (dropout applied) or validation mode (dropout not applied)\n",
        "        :return: logits for example x\n",
        "        \"\"\"\n",
        "        for layer in self.linear_layers[:-1]:\n",
        "            x = self.elu(layer(x))\n",
        "            if training:\n",
        "                x = self.dropout(x)\n",
        "        logits = self.linear_layers[-1](x)\n",
        "        return logits\n",
        "\n",
        "\n",
        "class EastModel(torch.nn.Module):\n",
        "    \"\"\"\n",
        "    This model has inside a logits model, that is a model which compute logits for the classes given an input example x.\n",
        "    The idea of this model is to keep logits and probabilities separated. The logits model returns the logits for an example,\n",
        "    while this model returns the probabilities given the logits model.\n",
        "\n",
        "    In particular, it takes as input an example x and a class label l. It applies the logits model to x to get the logits.\n",
        "    Then, it applies a softmax function to get the probabilities per classes. Finally, it returns only the probability related\n",
        "    to the given class l.\n",
        "    \"\"\"\n",
        "    def __init__(self, logits_model_map, indexer):\n",
        "        super(EastModel, self).__init__()\n",
        "        self.logits_model_map = logits_model_map\n",
        "        self.softmax = torch.nn.Softmax(dim=1)\n",
        "        self.intermediate_logits = {}\n",
        "\n",
        "        self.elu = torch.nn.ELU()\n",
        "        self.dropout = torch.nn.Dropout(0.5)\n",
        "        self.aggregatorNN = torch.nn.ModuleList([torch.nn.Linear(22, 12), torch.nn.Linear(12, 2)])\n",
        "        self.model_indexing = indexer\n",
        "\n",
        "    def forward(self, x, training=False):\n",
        "        # print(x.shape)\n",
        "        for pred in self.model_indexing.keys():\n",
        "          self.intermediate_logits[pred] = self.logits_model_map[pred](x[:, self.model_indexing[pred]], training=training)\n",
        "\n",
        "        # for i in self.intermediate_logits.keys():\n",
        "        #   print(i, self.intermediate_logits[i].shape)\n",
        "\n",
        "        logits = torch.cat(list([self.intermediate_logits[key] for key in self.intermediate_logits.keys()]), dim=1) #probability to go west\n",
        "        # I want to create a MLP layer to converge the logits from each predicate into a final one.\n",
        "        # print(\"Logits shape\", logits.shape)\n",
        "        for layer in self.aggregatorNN[:-1]:\n",
        "            logits = self.elu(layer(logits))\n",
        "            if training:\n",
        "                logits = self.dropout(logits)\n",
        "        logits = self.aggregatorNN[-1](logits)\n",
        "        return logits\n",
        "class LogitsToPredicate(torch.nn.Module):\n",
        "    def __init__(self, logits_model):\n",
        "        super(LogitsToPredicate, self).__init__()\n",
        "        self.logits_model = logits_model\n",
        "        self.softmax = torch.nn.Softmax(dim=1)\n",
        "\n",
        "    def forward(self, x, l, training=False):\n",
        "        logits = self.logits_model(x, training=training)\n",
        "        probs = self.softmax(logits)\n",
        "        out = torch.sum(probs * l, dim=1)\n",
        "        return out\n",
        "\n",
        "\n",
        "\n",
        "# we define the connectives, quantifiers, and the SatAgg\n",
        "Forall = ltn.Quantifier(ltn.fuzzy_ops.AggregPMeanError(p=2), quantifier=\"f\")\n",
        "SatAgg = ltn.fuzzy_ops.SatAgg()"
      ],
      "metadata": {
        "id": "yDXOHqW0J8Tn"
      },
      "execution_count": null,
      "outputs": []
    },
    {
      "cell_type": "code",
      "source": [
        "## Define metric functions\n",
        "from sklearn.metrics import accuracy_score\n",
        "import numpy as np\n",
        "\n",
        "class DataLoader(object):\n",
        "    def __init__(self,\n",
        "                 data,\n",
        "                 labels,\n",
        "                 batch_size=1,\n",
        "                 shuffle=True):\n",
        "        self.data = data\n",
        "        self.labels = labels\n",
        "        self.batch_size = batch_size\n",
        "        self.shuffle = shuffle\n",
        "\n",
        "    def __len__(self):\n",
        "        return int(np.ceil(self.data.shape[0] / self.batch_size))\n",
        "\n",
        "    def __iter__(self):\n",
        "        class_0_idx = np.where(self.labels == 0)[0]\n",
        "        class_1_idx = np.where(self.labels == 1)[0]\n",
        "\n",
        "        if self.shuffle:\n",
        "            np.random.shuffle(class_0_idx)\n",
        "            np.random.shuffle(class_1_idx)\n",
        "\n",
        "        n = min(len(class_0_idx), len(class_1_idx))\n",
        "        batch_half_size = self.batch_size // 2\n",
        "\n",
        "        for i in range(0, n, batch_half_size):\n",
        "            end_idx = min(i + batch_half_size, n)\n",
        "            idx0 = class_0_idx[i:end_idx]\n",
        "            idx1 = class_1_idx[i:end_idx]\n",
        "\n",
        "            batch_idx = np.concatenate((idx0, idx1))\n",
        "            if self.shuffle:\n",
        "                np.random.shuffle(batch_idx)\n",
        "            selected_data = self.data.iloc[batch_idx]\n",
        "            selected_labels = self.labels.iloc[batch_idx]\n",
        "\n",
        "            base_columns = ['train_number', 'num_cars']\n",
        "\n",
        "            length_columns = [col for col in selected_data.columns if col.startswith('length_')]\n",
        "            shape_columns = [col for col in selected_data.columns if col.startswith('shape_')]\n",
        "            load_shape_columns = [col for col in selected_data.columns if col.startswith('load_shape_')]\n",
        "\n",
        "            inputs = []\n",
        "            inputs.append(selected_data[['train_number','num_cars']].values)\n",
        "            inputs.append(selected_data[['train_number','num_loads']].values)\n",
        "            inputs.append(selected_data[['train_number', 'car_number', 'num_wheels']].values)\n",
        "            inputs.append(selected_data[base_columns + length_columns].values)\n",
        "            inputs.append(selected_data[base_columns + shape_columns].values)\n",
        "            inputs.append(selected_data[['train_number', 'car_number', 'num_cars_loads']].values)\n",
        "            inputs.append(selected_data[base_columns + load_shape_columns].values)\n",
        "            inputs.append(selected_data[['train_number', 'car_number', 'next_crc']].values)\n",
        "            inputs.append(selected_data[['train_number', 'car_number', 'next_hex']].values)\n",
        "            inputs.append(selected_data[['train_number', 'car_number', 'next_rec']].values)\n",
        "            inputs.append(selected_data[['train_number', 'car_number', 'next_tri']].values)\n",
        "            stack_inputs = np.hstack(inputs)\n",
        "            torch_inputs = torch.tensor(stack_inputs, dtype=torch.float32)\n",
        "            selected_labels = torch.tensor(selected_labels.values, dtype=torch.float32)\n",
        "            yield torch_inputs, selected_labels\n",
        "\n",
        "\n",
        "def compute_sat_level(loader):\n",
        "    mean_sat = 0\n",
        "    for data, labels in loader:\n",
        "        x_W = ltn.Variable(\"x_W\", data[labels == 0])\n",
        "        x_E = ltn.Variable(\"x_E\", data[labels == 1])\n",
        "        mean_sat += SatAgg(\n",
        "            Forall(x_W, P(x_W, l_W)),\n",
        "            Forall(x_E, P(x_E, l_E)),\n",
        "        )\n",
        "    mean_sat /= len(loader)\n",
        "    return mean_sat"
      ],
      "metadata": {
        "id": "pnKUFZkeJ8nL"
      },
      "execution_count": null,
      "outputs": []
    },
    {
      "cell_type": "markdown",
      "source": [
        "## Letra A\n",
        "Teste com os 10 trens do livro e compare o resultado com o o gerado pelo\n",
        "codigo fornecido, Table 2: Resultados obtidos - Questão 2"
      ],
      "metadata": {
        "id": "yNi5TUW7J_TE"
      }
    },
    {
      "cell_type": "code",
      "source": [
        "from sklearn.model_selection import GroupShuffleSplit\n",
        "from sklearn.preprocessing import OneHotEncoder, MinMaxScaler, LabelEncoder\n",
        "\n",
        "categorical_columns = ['shape', 'length', 'load_shape']\n",
        "numerical_columns = ['train_number', 'num_cars', 'num_loads', 'num_wheels', 'car_number', 'num_cars_loads']\n",
        "\n",
        "encoder = OneHotEncoder(sparse=False, drop='first')\n",
        "encoded_categorical = encoder.fit_transform(transformed_df_10[categorical_columns])\n",
        "encoded_df = pd.DataFrame(encoded_categorical, columns=encoder.get_feature_names_out(categorical_columns))\n",
        "\n",
        "scaler = MinMaxScaler()\n",
        "scaled_numerical = scaler.fit_transform(transformed_df_10[numerical_columns])\n",
        "scaled_df = pd.DataFrame(scaled_numerical, columns=numerical_columns)\n",
        "\n",
        "df_processed = pd.concat([transformed_df_10.drop(columns=categorical_columns + numerical_columns), scaled_df, encoded_df], axis=1)\n",
        "\n",
        "label_encoder = LabelEncoder()\n",
        "df_processed['direction'] = label_encoder.fit_transform(df_processed['direction'])\n",
        "\n",
        "X = df_processed.drop(columns=['direction'])\n",
        "y = df_processed['direction']\n",
        "\n",
        "gss = GroupShuffleSplit(n_splits=1, test_size=0.2, random_state=42)\n",
        "\n",
        "train_idx, test_idx = next(gss.split(X, y, groups=transformed_df_10['train_number']))\n",
        "\n",
        "# Splitting the data\n",
        "X_train, X_test = X.iloc[train_idx], X.iloc[test_idx]\n",
        "y_train, y_test = y.iloc[train_idx], y.iloc[test_idx]\n",
        "train_loader = DataLoader(X_train, y_train, 64, shuffle=True)\n",
        "test_loader = DataLoader(X_test, y_test, 64, shuffle=False)"
      ],
      "metadata": {
        "id": "ci57fCquKBJ-",
        "colab": {
          "base_uri": "https://localhost:8080/"
        },
        "outputId": "1402158a-bf56-480f-d528-ed0226003dfa"
      },
      "execution_count": null,
      "outputs": [
        {
          "output_type": "stream",
          "name": "stderr",
          "text": [
            "/usr/local/lib/python3.10/dist-packages/sklearn/preprocessing/_encoders.py:975: FutureWarning: `sparse` was renamed to `sparse_output` in version 1.2 and will be removed in 1.4. `sparse_output` is ignored unless you leave `sparse` to its default value.\n",
            "  warnings.warn(\n"
          ]
        }
      ]
    },
    {
      "cell_type": "code",
      "source": [
        "pred_map = {\n",
        "    \"num_cars\": MLP(layer_sizes=(2, 8, 2)),\n",
        "    \"num_loads\": MLP(layer_sizes=(2, 8, 2)),\n",
        "    \"num_wheels\": MLP(layer_sizes=(3, 8, 2)),\n",
        "    \"length\": MLP(layer_sizes=(3, 8, 2)),\n",
        "    \"shape\": MLP(layer_sizes=(10, 16, 2)),\n",
        "    \"num_cars_loads\": MLP(layer_sizes=(3, 8, 2)),\n",
        "    \"load_shape\": MLP(layer_sizes=(6, 16, 2)),\n",
        "    \"next_crc\": MLP(layer_sizes=(3, 8, 2)),\n",
        "    \"next_hex\": MLP(layer_sizes=(3, 8, 2)),\n",
        "    \"next_rec\": MLP(layer_sizes=(3, 8, 2)),\n",
        "    \"next_tri\": MLP(layer_sizes=(3, 8, 2))\n",
        "}\n",
        "indexer = {\n",
        "            \"num_cars\": list(range(0, 2)),\n",
        "            \"num_loads\": list(range(2, 4)),\n",
        "            \"num_wheels\": list(range(4, 7)),\n",
        "            \"length\": list(range(7, 10)),\n",
        "            \"shape\": list(range(10, 20)),\n",
        "            \"num_cars_loads\": list(range(20, 23)),\n",
        "            \"load_shape\": list(range(23, 29)),\n",
        "            \"next_crc\": list(range(29, 32)),\n",
        "            \"next_hex\": list(range(32, 35)),\n",
        "            \"next_rec\": list(range(35, 38)),\n",
        "            \"next_tri\": list(range(38, 41))\n",
        "        }\n",
        "\n",
        "east = EastModel(pred_map, indexer)\n",
        "P = ltn.Predicate(LogitsToPredicate(east))"
      ],
      "metadata": {
        "id": "NF3I-YxyQPN5"
      },
      "execution_count": null,
      "outputs": []
    },
    {
      "cell_type": "code",
      "source": [
        "## Model Training\n",
        "optimizer = torch.optim.Adam(P.parameters(), lr=0.0001)\n",
        "def compute_accuracy(loader):\n",
        "    mean_accuracy = 0.0\n",
        "    for data, labels in loader:\n",
        "        predictions = east(data).detach().numpy()\n",
        "        predictions = np.argmax(predictions, axis=1)\n",
        "        mean_accuracy += accuracy_score(labels, predictions)\n",
        "\n",
        "    return mean_accuracy / len(loader)\n",
        "\n",
        "for epoch in range(1000):\n",
        "    train_loss = 0.0\n",
        "    for batch_idx, (data, labels) in enumerate(train_loader):\n",
        "        optimizer.zero_grad()\n",
        "        x_W = ltn.Variable(\"x_W\", data[labels == 0]) # West samples\n",
        "        x_E = ltn.Variable(\"x_E\", data[labels == 1]) # East samples\n",
        "        sat_agg = SatAgg(\n",
        "            Forall(x_W, P(x_W, l_W, training=True)),\n",
        "            Forall(x_E, P(x_E, l_E, training=True)),\n",
        "        )\n",
        "        loss = 1. - sat_agg\n",
        "        loss.backward()\n",
        "        optimizer.step()\n",
        "        train_loss += loss.item()\n",
        "    train_loss = train_loss / len(train_loader)\n",
        "\n",
        "    # we print metrics every 20 epochs of training\n",
        "    if epoch % 20 == 0:\n",
        "        print(\" epoch %d | loss %.4f | Train Sat %.3f | Test Sat %.3f | Train Acc %.3f | Test Acc %.3f\"\n",
        "              %(epoch, train_loss, compute_sat_level(train_loader), compute_sat_level(test_loader),\n",
        "                    compute_accuracy(train_loader), compute_accuracy(test_loader)))"
      ],
      "metadata": {
        "colab": {
          "base_uri": "https://localhost:8080/"
        },
        "id": "8v25Tn_9ONSR",
        "outputId": "430608f6-0564-464d-d93b-68d1062dc877"
      },
      "execution_count": null,
      "outputs": [
        {
          "output_type": "stream",
          "name": "stdout",
          "text": [
            " epoch 0 | loss 0.5049 | Train Sat 0.499 | Test Sat 0.499 | Train Acc 0.500 | Test Acc 0.500\n",
            " epoch 20 | loss 0.4990 | Train Sat 0.497 | Test Sat 0.500 | Train Acc 0.500 | Test Acc 0.500\n",
            " epoch 40 | loss 0.4893 | Train Sat 0.499 | Test Sat 0.500 | Train Acc 0.500 | Test Acc 0.500\n",
            " epoch 60 | loss 0.5072 | Train Sat 0.500 | Test Sat 0.501 | Train Acc 0.500 | Test Acc 0.500\n",
            " epoch 80 | loss 0.5019 | Train Sat 0.502 | Test Sat 0.502 | Train Acc 0.500 | Test Acc 0.500\n",
            " epoch 100 | loss 0.5013 | Train Sat 0.503 | Test Sat 0.502 | Train Acc 0.500 | Test Acc 0.500\n",
            " epoch 120 | loss 0.5012 | Train Sat 0.502 | Test Sat 0.503 | Train Acc 0.500 | Test Acc 0.500\n",
            " epoch 140 | loss 0.4891 | Train Sat 0.508 | Test Sat 0.503 | Train Acc 0.500 | Test Acc 0.500\n",
            " epoch 160 | loss 0.5073 | Train Sat 0.504 | Test Sat 0.504 | Train Acc 0.500 | Test Acc 0.500\n",
            " epoch 180 | loss 0.4841 | Train Sat 0.508 | Test Sat 0.504 | Train Acc 0.500 | Test Acc 0.500\n",
            " epoch 200 | loss 0.4986 | Train Sat 0.507 | Test Sat 0.505 | Train Acc 0.556 | Test Acc 0.500\n",
            " epoch 220 | loss 0.4929 | Train Sat 0.509 | Test Sat 0.505 | Train Acc 0.556 | Test Acc 0.667\n",
            " epoch 240 | loss 0.4974 | Train Sat 0.509 | Test Sat 0.506 | Train Acc 0.667 | Test Acc 0.667\n",
            " epoch 260 | loss 0.4915 | Train Sat 0.510 | Test Sat 0.506 | Train Acc 0.667 | Test Acc 0.667\n",
            " epoch 280 | loss 0.4904 | Train Sat 0.511 | Test Sat 0.507 | Train Acc 0.722 | Test Acc 0.667\n",
            " epoch 300 | loss 0.4961 | Train Sat 0.514 | Test Sat 0.507 | Train Acc 0.722 | Test Acc 0.667\n",
            " epoch 320 | loss 0.4886 | Train Sat 0.510 | Test Sat 0.508 | Train Acc 0.722 | Test Acc 0.667\n",
            " epoch 340 | loss 0.4937 | Train Sat 0.513 | Test Sat 0.508 | Train Acc 0.778 | Test Acc 0.667\n",
            " epoch 360 | loss 0.4926 | Train Sat 0.514 | Test Sat 0.509 | Train Acc 0.778 | Test Acc 0.667\n",
            " epoch 380 | loss 0.4864 | Train Sat 0.514 | Test Sat 0.509 | Train Acc 0.778 | Test Acc 0.667\n",
            " epoch 400 | loss 0.5010 | Train Sat 0.515 | Test Sat 0.510 | Train Acc 0.778 | Test Acc 0.667\n",
            " epoch 420 | loss 0.5001 | Train Sat 0.514 | Test Sat 0.510 | Train Acc 0.889 | Test Acc 0.667\n",
            " epoch 440 | loss 0.4756 | Train Sat 0.517 | Test Sat 0.510 | Train Acc 0.833 | Test Acc 0.667\n",
            " epoch 460 | loss 0.4873 | Train Sat 0.519 | Test Sat 0.511 | Train Acc 0.833 | Test Acc 0.667\n",
            " epoch 480 | loss 0.4936 | Train Sat 0.518 | Test Sat 0.511 | Train Acc 0.889 | Test Acc 0.833\n",
            " epoch 500 | loss 0.4707 | Train Sat 0.516 | Test Sat 0.512 | Train Acc 0.833 | Test Acc 0.833\n",
            " epoch 520 | loss 0.4937 | Train Sat 0.517 | Test Sat 0.512 | Train Acc 0.889 | Test Acc 0.833\n",
            " epoch 540 | loss 0.4849 | Train Sat 0.519 | Test Sat 0.513 | Train Acc 0.833 | Test Acc 0.833\n",
            " epoch 560 | loss 0.4777 | Train Sat 0.520 | Test Sat 0.513 | Train Acc 0.889 | Test Acc 0.833\n",
            " epoch 580 | loss 0.4803 | Train Sat 0.523 | Test Sat 0.514 | Train Acc 0.944 | Test Acc 0.833\n",
            " epoch 600 | loss 0.4865 | Train Sat 0.524 | Test Sat 0.514 | Train Acc 0.889 | Test Acc 0.833\n",
            " epoch 620 | loss 0.4820 | Train Sat 0.522 | Test Sat 0.515 | Train Acc 0.944 | Test Acc 0.833\n",
            " epoch 640 | loss 0.4618 | Train Sat 0.525 | Test Sat 0.515 | Train Acc 0.944 | Test Acc 0.833\n",
            " epoch 660 | loss 0.4658 | Train Sat 0.527 | Test Sat 0.516 | Train Acc 0.889 | Test Acc 0.833\n",
            " epoch 680 | loss 0.4777 | Train Sat 0.525 | Test Sat 0.516 | Train Acc 0.889 | Test Acc 0.833\n",
            " epoch 700 | loss 0.4914 | Train Sat 0.528 | Test Sat 0.517 | Train Acc 0.944 | Test Acc 0.833\n",
            " epoch 720 | loss 0.4678 | Train Sat 0.530 | Test Sat 0.517 | Train Acc 0.944 | Test Acc 0.833\n",
            " epoch 740 | loss 0.4711 | Train Sat 0.530 | Test Sat 0.518 | Train Acc 0.889 | Test Acc 0.833\n",
            " epoch 760 | loss 0.4790 | Train Sat 0.528 | Test Sat 0.519 | Train Acc 0.889 | Test Acc 0.833\n",
            " epoch 780 | loss 0.4773 | Train Sat 0.529 | Test Sat 0.519 | Train Acc 0.944 | Test Acc 0.833\n",
            " epoch 800 | loss 0.4767 | Train Sat 0.529 | Test Sat 0.520 | Train Acc 0.889 | Test Acc 0.833\n",
            " epoch 820 | loss 0.4422 | Train Sat 0.536 | Test Sat 0.520 | Train Acc 0.944 | Test Acc 0.833\n",
            " epoch 840 | loss 0.4537 | Train Sat 0.532 | Test Sat 0.521 | Train Acc 0.889 | Test Acc 0.833\n",
            " epoch 860 | loss 0.4839 | Train Sat 0.535 | Test Sat 0.521 | Train Acc 0.889 | Test Acc 0.833\n",
            " epoch 880 | loss 0.4613 | Train Sat 0.532 | Test Sat 0.522 | Train Acc 0.889 | Test Acc 0.833\n",
            " epoch 900 | loss 0.4299 | Train Sat 0.541 | Test Sat 0.522 | Train Acc 0.944 | Test Acc 0.833\n",
            " epoch 920 | loss 0.4940 | Train Sat 0.536 | Test Sat 0.523 | Train Acc 0.889 | Test Acc 0.833\n",
            " epoch 940 | loss 0.4536 | Train Sat 0.539 | Test Sat 0.523 | Train Acc 0.944 | Test Acc 0.833\n",
            " epoch 960 | loss 0.4582 | Train Sat 0.543 | Test Sat 0.524 | Train Acc 0.944 | Test Acc 0.833\n",
            " epoch 980 | loss 0.4520 | Train Sat 0.543 | Test Sat 0.525 | Train Acc 0.944 | Test Acc 0.833\n"
          ]
        }
      ]
    },
    {
      "cell_type": "code",
      "source": [
        "all_loader = DataLoader(X, y, 64, shuffle=False)\n",
        "for data, labels in all_loader:\n",
        "    predictions = east(data).detach().numpy()\n",
        "    predictions = np.argmax(predictions, axis=1)\n",
        "    print(predictions, labels)"
      ],
      "metadata": {
        "colab": {
          "base_uri": "https://localhost:8080/"
        },
        "id": "XaRoqJ_OSlsH",
        "outputId": "151b843b-b1a6-42d0-871d-0d441adfdf4e"
      },
      "execution_count": null,
      "outputs": [
        {
          "output_type": "stream",
          "name": "stdout",
          "text": [
            "[0 0 0 0 0 0 0 1 0 0 0 0 0 1 1 1 1 1 1 1 1 1 0 0 1 1] tensor([0., 0., 0., 0., 0., 0., 0., 0., 0., 0., 0., 0., 0., 1., 1., 1., 1., 1.,\n",
            "        1., 1., 1., 1., 1., 1., 1., 1.])\n"
          ]
        }
      ]
    },
    {
      "cell_type": "markdown",
      "source": [
        "## Letra B\n",
        "Execute o codigo LTNTorch para os 100 trens usando os mesmos\n",
        "procedimentos de treinamento da questão anterior."
      ],
      "metadata": {
        "id": "xbugcVqUKESN"
      }
    },
    {
      "cell_type": "code",
      "source": [
        "from sklearn.model_selection import GroupShuffleSplit\n",
        "from sklearn.preprocessing import OneHotEncoder, MinMaxScaler, LabelEncoder\n",
        "\n",
        "categorical_columns = ['shape', 'length', 'load_shape']\n",
        "numerical_columns = ['train_number', 'num_cars', 'num_loads', 'num_wheels', 'car_number', 'num_cars_loads']\n",
        "\n",
        "encoder = OneHotEncoder(sparse=False, drop='first')\n",
        "encoded_categorical = encoder.fit_transform(transformed_df[categorical_columns])\n",
        "encoded_df = pd.DataFrame(encoded_categorical, columns=encoder.get_feature_names_out(categorical_columns))\n",
        "\n",
        "scaler = MinMaxScaler()\n",
        "scaled_numerical = scaler.fit_transform(transformed_df[numerical_columns])\n",
        "scaled_df = pd.DataFrame(scaled_numerical, columns=numerical_columns)\n",
        "\n",
        "df_processed = pd.concat([transformed_df.drop(columns=categorical_columns + numerical_columns), scaled_df, encoded_df], axis=1)\n",
        "\n",
        "label_encoder = LabelEncoder()\n",
        "df_processed['direction'] = label_encoder.fit_transform(df_processed['direction'])\n",
        "\n",
        "X = df_processed.drop(columns=['direction'])\n",
        "y = df_processed['direction']\n",
        "\n",
        "gss = GroupShuffleSplit(n_splits=1, test_size=0.2, random_state=42)\n",
        "\n",
        "train_idx, test_idx = next(gss.split(X, y, groups=transformed_df['train_number']))\n",
        "\n",
        "# Splitting the data\n",
        "X_train, X_test = X.iloc[train_idx], X.iloc[test_idx]\n",
        "y_train, y_test = y.iloc[train_idx], y.iloc[test_idx]\n",
        "train_loader = DataLoader(X_train, y_train, 64, shuffle=True)\n",
        "test_loader = DataLoader(X_test, y_test, 64, shuffle=False)"
      ],
      "metadata": {
        "colab": {
          "base_uri": "https://localhost:8080/"
        },
        "id": "CTTgKbzINOHa",
        "outputId": "3cfca153-baf6-45d7-adbb-e183ee0e96cd"
      },
      "execution_count": null,
      "outputs": [
        {
          "output_type": "stream",
          "name": "stderr",
          "text": [
            "/usr/local/lib/python3.10/dist-packages/sklearn/preprocessing/_encoders.py:975: FutureWarning: `sparse` was renamed to `sparse_output` in version 1.2 and will be removed in 1.4. `sparse_output` is ignored unless you leave `sparse` to its default value.\n",
            "  warnings.warn(\n"
          ]
        }
      ]
    },
    {
      "cell_type": "code",
      "source": [
        "pred_map = {\n",
        "    \"num_cars\": MLP(layer_sizes=(2, 8, 8, 2)),\n",
        "    \"num_loads\": MLP(layer_sizes=(2, 8, 8, 2)),\n",
        "    \"num_wheels\": MLP(layer_sizes=(3, 8, 8, 2)),\n",
        "    \"length\": MLP(layer_sizes=(4, 8, 8, 2)),\n",
        "    \"shape\": MLP(layer_sizes=(22, 16, 8, 2)),\n",
        "    \"num_cars_loads\": MLP(layer_sizes=(3, 8, 8, 2)),\n",
        "    \"load_shape\": MLP(layer_sizes=(12, 16, 8, 2)),\n",
        "    \"next_crc\": MLP(layer_sizes=(3, 8, 8, 2)),\n",
        "    \"next_hex\": MLP(layer_sizes=(3, 8, 8, 2)),\n",
        "    \"next_rec\": MLP(layer_sizes=(3, 8, 8, 2)),\n",
        "    \"next_tri\": MLP(layer_sizes=(3, 8, 8, 2))\n",
        "}\n",
        "indexer = {\n",
        "            \"num_cars\": list(range(0, 2)),\n",
        "            \"num_loads\": list(range(2, 4)),\n",
        "            \"num_wheels\": list(range(4, 7)),\n",
        "            \"length\": list(range(7, 11)),\n",
        "            \"shape\": list(range(11, 33)),\n",
        "            \"num_cars_loads\": list(range(33, 36)),\n",
        "            \"load_shape\": list(range(36, 48)),\n",
        "            \"next_crc\": list(range(48, 51)),\n",
        "            \"next_hex\": list(range(51, 54)),\n",
        "            \"next_rec\": list(range(54, 57)),\n",
        "            \"next_tri\": list(range(57, 60))\n",
        "        }\n",
        "east = EastModel(pred_map, indexer)\n",
        "P = ltn.Predicate(LogitsToPredicate(east))"
      ],
      "metadata": {
        "id": "XKoQtbd3QRJ7"
      },
      "execution_count": null,
      "outputs": []
    },
    {
      "cell_type": "code",
      "source": [
        "import matplotlib.pyplot as plt\n",
        "\n",
        "train_numbers_train = transformed_df.iloc[train_idx]['train_number'].unique()\n",
        "train_numbers_test = transformed_df.iloc[test_idx]['train_number'].unique()\n",
        "\n",
        "intersection = set(train_numbers_train).intersection(set(train_numbers_test))\n",
        "\n",
        "plt.figure(figsize=(10, 6))\n",
        "\n",
        "plt.bar(train_numbers_train, [1] * len(train_numbers_train), color='blue', alpha=0.6, label='Train Set')\n",
        "plt.bar(train_numbers_test, [1] * len(train_numbers_test), color='red', alpha=0.6, label='Test Set')\n",
        "\n",
        "plt.xlabel('Train Number')\n",
        "plt.ylabel('Presence')\n",
        "plt.title('Train Numbers in Train and Test Sets')\n",
        "plt.legend()\n",
        "\n",
        "if intersection:\n",
        "    print(\"WARNING: The following train_numbers are in both subsets:\", intersection)\n",
        "    for train_number in intersection:\n",
        "        plt.bar(train_number, 1, color='green', alpha=1, label='Intersection')\n",
        "else:\n",
        "    print(\"No train_number appears in both train and test sets.\")\n",
        "\n",
        "plt.show()"
      ],
      "metadata": {
        "colab": {
          "base_uri": "https://localhost:8080/",
          "height": 581
        },
        "id": "7KXSVMPNNTSm",
        "outputId": "550481eb-23b3-43f6-aaed-cc9aaddddfab"
      },
      "execution_count": null,
      "outputs": [
        {
          "output_type": "stream",
          "name": "stdout",
          "text": [
            "No train_number appears in both train and test sets.\n"
          ]
        },
        {
          "output_type": "display_data",
          "data": {
            "text/plain": [
              "<Figure size 1000x600 with 1 Axes>"
            ],
            "image/png": "[encoded data removed]"
          },
          "metadata": {}
        }
      ]
    },
    {
      "cell_type": "code",
      "source": [
        "## Model Training\n",
        "optimizer = torch.optim.Adam(P.parameters(), lr=0.001)\n",
        "def compute_accuracy(loader):\n",
        "    mean_accuracy = 0.0\n",
        "    for data, labels in loader:\n",
        "        predictions = east(data).detach().numpy()\n",
        "        predictions = np.argmax(predictions, axis=1)\n",
        "        mean_accuracy += accuracy_score(labels, predictions)\n",
        "\n",
        "    return mean_accuracy / len(loader)\n",
        "\n",
        "for epoch in range(2000):\n",
        "    train_loss = 0.0\n",
        "    for batch_idx, (data, labels) in enumerate(train_loader):\n",
        "        optimizer.zero_grad()\n",
        "        x_W = ltn.Variable(\"x_W\", data[labels == 0]) # West samples\n",
        "        x_E = ltn.Variable(\"x_E\", data[labels == 1]) # East samples\n",
        "        sat_agg = SatAgg(\n",
        "            Forall(x_W, P(x_W, l_W, training=True)),\n",
        "            Forall(x_E, P(x_E, l_E, training=True)),\n",
        "        )\n",
        "        loss = 1. - sat_agg\n",
        "        loss.backward()\n",
        "        optimizer.step()\n",
        "        train_loss += loss.item()\n",
        "    train_loss = train_loss / len(train_loader)\n",
        "\n",
        "    if epoch % 20 == 0:\n",
        "        print(\" epoch %d | loss %.4f | Train Sat %.3f | Test Sat %.3f | Train Acc %.3f | Test Acc %.3f\"\n",
        "              %(epoch, train_loss, compute_sat_level(train_loader), compute_sat_level(test_loader),\n",
        "                    compute_accuracy(train_loader), compute_accuracy(test_loader)))"
      ],
      "metadata": {
        "id": "5UxLSuh-KGj7",
        "colab": {
          "base_uri": "https://localhost:8080/"
        },
        "outputId": "9042a0ec-e044-4714-ff63-e9bcf85697ec"
      },
      "execution_count": null,
      "outputs": [
        {
          "output_type": "stream",
          "name": "stdout",
          "text": [
            " epoch 0 | loss 0.5258 | Train Sat 0.480 | Test Sat 0.480 | Train Acc 0.500 | Test Acc 0.500\n",
            " epoch 20 | loss 0.5036 | Train Sat 0.502 | Test Sat 0.501 | Train Acc 0.512 | Test Acc 0.500\n",
            " epoch 40 | loss 0.5042 | Train Sat 0.503 | Test Sat 0.502 | Train Acc 0.688 | Test Acc 0.569\n",
            " epoch 60 | loss 0.4947 | Train Sat 0.505 | Test Sat 0.504 | Train Acc 0.696 | Test Acc 0.552\n",
            " epoch 80 | loss 0.4945 | Train Sat 0.507 | Test Sat 0.505 | Train Acc 0.710 | Test Acc 0.552\n",
            " epoch 100 | loss 0.4995 | Train Sat 0.508 | Test Sat 0.506 | Train Acc 0.600 | Test Acc 0.517\n",
            " epoch 120 | loss 0.4997 | Train Sat 0.509 | Test Sat 0.507 | Train Acc 0.576 | Test Acc 0.517\n",
            " epoch 140 | loss 0.5013 | Train Sat 0.511 | Test Sat 0.508 | Train Acc 0.604 | Test Acc 0.517\n",
            " epoch 160 | loss 0.4932 | Train Sat 0.511 | Test Sat 0.508 | Train Acc 0.606 | Test Acc 0.517\n",
            " epoch 180 | loss 0.5081 | Train Sat 0.511 | Test Sat 0.509 | Train Acc 0.604 | Test Acc 0.534\n",
            " epoch 200 | loss 0.4914 | Train Sat 0.512 | Test Sat 0.508 | Train Acc 0.629 | Test Acc 0.517\n",
            " epoch 220 | loss 0.5005 | Train Sat 0.512 | Test Sat 0.508 | Train Acc 0.631 | Test Acc 0.534\n",
            " epoch 240 | loss 0.4955 | Train Sat 0.512 | Test Sat 0.509 | Train Acc 0.596 | Test Acc 0.534\n",
            " epoch 260 | loss 0.4958 | Train Sat 0.513 | Test Sat 0.509 | Train Acc 0.594 | Test Acc 0.534\n",
            " epoch 280 | loss 0.4894 | Train Sat 0.513 | Test Sat 0.510 | Train Acc 0.606 | Test Acc 0.534\n",
            " epoch 300 | loss 0.4898 | Train Sat 0.513 | Test Sat 0.509 | Train Acc 0.625 | Test Acc 0.534\n",
            " epoch 320 | loss 0.4926 | Train Sat 0.513 | Test Sat 0.509 | Train Acc 0.642 | Test Acc 0.569\n",
            " epoch 340 | loss 0.4960 | Train Sat 0.512 | Test Sat 0.509 | Train Acc 0.625 | Test Acc 0.552\n",
            " epoch 360 | loss 0.4869 | Train Sat 0.514 | Test Sat 0.509 | Train Acc 0.598 | Test Acc 0.534\n",
            " epoch 380 | loss 0.4878 | Train Sat 0.513 | Test Sat 0.510 | Train Acc 0.639 | Test Acc 0.569\n",
            " epoch 400 | loss 0.4992 | Train Sat 0.514 | Test Sat 0.510 | Train Acc 0.586 | Test Acc 0.534\n",
            " epoch 420 | loss 0.4961 | Train Sat 0.515 | Test Sat 0.511 | Train Acc 0.594 | Test Acc 0.517\n",
            " epoch 440 | loss 0.4890 | Train Sat 0.515 | Test Sat 0.511 | Train Acc 0.661 | Test Acc 0.552\n",
            " epoch 460 | loss 0.5011 | Train Sat 0.514 | Test Sat 0.511 | Train Acc 0.612 | Test Acc 0.534\n",
            " epoch 480 | loss 0.4969 | Train Sat 0.513 | Test Sat 0.510 | Train Acc 0.649 | Test Acc 0.552\n",
            " epoch 500 | loss 0.4909 | Train Sat 0.514 | Test Sat 0.510 | Train Acc 0.610 | Test Acc 0.534\n",
            " epoch 520 | loss 0.4912 | Train Sat 0.513 | Test Sat 0.510 | Train Acc 0.631 | Test Acc 0.552\n",
            " epoch 540 | loss 0.4957 | Train Sat 0.513 | Test Sat 0.510 | Train Acc 0.629 | Test Acc 0.517\n",
            " epoch 560 | loss 0.4913 | Train Sat 0.514 | Test Sat 0.510 | Train Acc 0.616 | Test Acc 0.517\n",
            " epoch 580 | loss 0.4859 | Train Sat 0.514 | Test Sat 0.510 | Train Acc 0.606 | Test Acc 0.517\n",
            " epoch 600 | loss 0.5010 | Train Sat 0.514 | Test Sat 0.510 | Train Acc 0.630 | Test Acc 0.517\n",
            " epoch 620 | loss 0.4911 | Train Sat 0.513 | Test Sat 0.510 | Train Acc 0.641 | Test Acc 0.534\n",
            " epoch 640 | loss 0.4930 | Train Sat 0.514 | Test Sat 0.510 | Train Acc 0.637 | Test Acc 0.534\n",
            " epoch 660 | loss 0.4954 | Train Sat 0.514 | Test Sat 0.510 | Train Acc 0.588 | Test Acc 0.517\n",
            " epoch 680 | loss 0.4930 | Train Sat 0.514 | Test Sat 0.510 | Train Acc 0.600 | Test Acc 0.517\n",
            " epoch 700 | loss 0.4961 | Train Sat 0.515 | Test Sat 0.510 | Train Acc 0.622 | Test Acc 0.517\n",
            " epoch 720 | loss 0.4914 | Train Sat 0.513 | Test Sat 0.509 | Train Acc 0.637 | Test Acc 0.517\n",
            " epoch 740 | loss 0.4888 | Train Sat 0.511 | Test Sat 0.509 | Train Acc 0.624 | Test Acc 0.517\n",
            " epoch 760 | loss 0.5023 | Train Sat 0.512 | Test Sat 0.509 | Train Acc 0.602 | Test Acc 0.517\n",
            " epoch 780 | loss 0.4953 | Train Sat 0.513 | Test Sat 0.509 | Train Acc 0.631 | Test Acc 0.534\n",
            " epoch 800 | loss 0.4850 | Train Sat 0.515 | Test Sat 0.510 | Train Acc 0.606 | Test Acc 0.534\n",
            " epoch 820 | loss 0.4983 | Train Sat 0.515 | Test Sat 0.511 | Train Acc 0.590 | Test Acc 0.534\n",
            " epoch 840 | loss 0.4908 | Train Sat 0.514 | Test Sat 0.510 | Train Acc 0.592 | Test Acc 0.517\n",
            " epoch 860 | loss 0.4936 | Train Sat 0.514 | Test Sat 0.510 | Train Acc 0.576 | Test Acc 0.517\n",
            " epoch 880 | loss 0.4954 | Train Sat 0.513 | Test Sat 0.510 | Train Acc 0.614 | Test Acc 0.517\n",
            " epoch 900 | loss 0.4970 | Train Sat 0.514 | Test Sat 0.510 | Train Acc 0.655 | Test Acc 0.569\n",
            " epoch 920 | loss 0.4958 | Train Sat 0.514 | Test Sat 0.509 | Train Acc 0.657 | Test Acc 0.552\n",
            " epoch 940 | loss 0.4857 | Train Sat 0.515 | Test Sat 0.510 | Train Acc 0.632 | Test Acc 0.534\n",
            " epoch 960 | loss 0.4903 | Train Sat 0.513 | Test Sat 0.510 | Train Acc 0.592 | Test Acc 0.517\n",
            " epoch 980 | loss 0.4985 | Train Sat 0.515 | Test Sat 0.510 | Train Acc 0.635 | Test Acc 0.534\n",
            " epoch 1000 | loss 0.4970 | Train Sat 0.513 | Test Sat 0.510 | Train Acc 0.641 | Test Acc 0.534\n",
            " epoch 1020 | loss 0.4903 | Train Sat 0.513 | Test Sat 0.510 | Train Acc 0.633 | Test Acc 0.534\n",
            " epoch 1040 | loss 0.4932 | Train Sat 0.513 | Test Sat 0.509 | Train Acc 0.645 | Test Acc 0.552\n",
            " epoch 1060 | loss 0.4854 | Train Sat 0.514 | Test Sat 0.510 | Train Acc 0.635 | Test Acc 0.534\n",
            " epoch 1080 | loss 0.4946 | Train Sat 0.513 | Test Sat 0.510 | Train Acc 0.653 | Test Acc 0.534\n",
            " epoch 1100 | loss 0.4847 | Train Sat 0.515 | Test Sat 0.511 | Train Acc 0.635 | Test Acc 0.534\n",
            " epoch 1120 | loss 0.4960 | Train Sat 0.514 | Test Sat 0.510 | Train Acc 0.665 | Test Acc 0.552\n",
            " epoch 1140 | loss 0.4904 | Train Sat 0.514 | Test Sat 0.510 | Train Acc 0.606 | Test Acc 0.517\n",
            " epoch 1160 | loss 0.4890 | Train Sat 0.515 | Test Sat 0.510 | Train Acc 0.632 | Test Acc 0.517\n",
            " epoch 1180 | loss 0.4932 | Train Sat 0.515 | Test Sat 0.510 | Train Acc 0.604 | Test Acc 0.534\n",
            " epoch 1200 | loss 0.4983 | Train Sat 0.515 | Test Sat 0.510 | Train Acc 0.629 | Test Acc 0.517\n",
            " epoch 1220 | loss 0.4886 | Train Sat 0.515 | Test Sat 0.511 | Train Acc 0.592 | Test Acc 0.517\n",
            " epoch 1240 | loss 0.4914 | Train Sat 0.515 | Test Sat 0.510 | Train Acc 0.641 | Test Acc 0.517\n",
            " epoch 1260 | loss 0.4942 | Train Sat 0.513 | Test Sat 0.510 | Train Acc 0.637 | Test Acc 0.517\n",
            " epoch 1280 | loss 0.4961 | Train Sat 0.513 | Test Sat 0.510 | Train Acc 0.608 | Test Acc 0.517\n",
            " epoch 1300 | loss 0.4950 | Train Sat 0.513 | Test Sat 0.510 | Train Acc 0.588 | Test Acc 0.534\n",
            " epoch 1320 | loss 0.4949 | Train Sat 0.514 | Test Sat 0.510 | Train Acc 0.647 | Test Acc 0.517\n",
            " epoch 1340 | loss 0.4976 | Train Sat 0.514 | Test Sat 0.509 | Train Acc 0.614 | Test Acc 0.517\n",
            " epoch 1360 | loss 0.4923 | Train Sat 0.516 | Test Sat 0.510 | Train Acc 0.632 | Test Acc 0.534\n",
            " epoch 1380 | loss 0.4967 | Train Sat 0.514 | Test Sat 0.510 | Train Acc 0.590 | Test Acc 0.517\n",
            " epoch 1400 | loss 0.4939 | Train Sat 0.515 | Test Sat 0.510 | Train Acc 0.636 | Test Acc 0.517\n",
            " epoch 1420 | loss 0.4907 | Train Sat 0.515 | Test Sat 0.510 | Train Acc 0.598 | Test Acc 0.517\n",
            " epoch 1440 | loss 0.5020 | Train Sat 0.515 | Test Sat 0.510 | Train Acc 0.631 | Test Acc 0.517\n",
            " epoch 1460 | loss 0.4899 | Train Sat 0.515 | Test Sat 0.510 | Train Acc 0.621 | Test Acc 0.517\n",
            " epoch 1480 | loss 0.4854 | Train Sat 0.513 | Test Sat 0.510 | Train Acc 0.637 | Test Acc 0.534\n",
            " epoch 1500 | loss 0.4923 | Train Sat 0.514 | Test Sat 0.510 | Train Acc 0.608 | Test Acc 0.517\n",
            " epoch 1520 | loss 0.4847 | Train Sat 0.515 | Test Sat 0.510 | Train Acc 0.628 | Test Acc 0.517\n",
            " epoch 1540 | loss 0.4929 | Train Sat 0.515 | Test Sat 0.510 | Train Acc 0.614 | Test Acc 0.517\n",
            " epoch 1560 | loss 0.4933 | Train Sat 0.514 | Test Sat 0.510 | Train Acc 0.600 | Test Acc 0.534\n",
            " epoch 1580 | loss 0.4930 | Train Sat 0.514 | Test Sat 0.510 | Train Acc 0.641 | Test Acc 0.552\n",
            " epoch 1600 | loss 0.4835 | Train Sat 0.515 | Test Sat 0.510 | Train Acc 0.643 | Test Acc 0.569\n",
            " epoch 1620 | loss 0.4961 | Train Sat 0.514 | Test Sat 0.511 | Train Acc 0.608 | Test Acc 0.534\n",
            " epoch 1640 | loss 0.4854 | Train Sat 0.515 | Test Sat 0.510 | Train Acc 0.608 | Test Acc 0.517\n",
            " epoch 1660 | loss 0.4918 | Train Sat 0.514 | Test Sat 0.510 | Train Acc 0.618 | Test Acc 0.534\n",
            " epoch 1680 | loss 0.4989 | Train Sat 0.514 | Test Sat 0.510 | Train Acc 0.634 | Test Acc 0.517\n",
            " epoch 1700 | loss 0.4865 | Train Sat 0.514 | Test Sat 0.510 | Train Acc 0.653 | Test Acc 0.517\n",
            " epoch 1720 | loss 0.4987 | Train Sat 0.515 | Test Sat 0.511 | Train Acc 0.616 | Test Acc 0.534\n",
            " epoch 1740 | loss 0.4954 | Train Sat 0.516 | Test Sat 0.511 | Train Acc 0.608 | Test Acc 0.517\n",
            " epoch 1760 | loss 0.4997 | Train Sat 0.516 | Test Sat 0.511 | Train Acc 0.608 | Test Acc 0.534\n",
            " epoch 1780 | loss 0.4891 | Train Sat 0.513 | Test Sat 0.510 | Train Acc 0.602 | Test Acc 0.534\n",
            " epoch 1800 | loss 0.4881 | Train Sat 0.513 | Test Sat 0.510 | Train Acc 0.612 | Test Acc 0.517\n",
            " epoch 1820 | loss 0.4877 | Train Sat 0.514 | Test Sat 0.510 | Train Acc 0.624 | Test Acc 0.517\n",
            " epoch 1840 | loss 0.5015 | Train Sat 0.514 | Test Sat 0.510 | Train Acc 0.635 | Test Acc 0.552\n",
            " epoch 1860 | loss 0.4979 | Train Sat 0.514 | Test Sat 0.510 | Train Acc 0.632 | Test Acc 0.534\n",
            " epoch 1880 | loss 0.4907 | Train Sat 0.513 | Test Sat 0.510 | Train Acc 0.617 | Test Acc 0.552\n",
            " epoch 1900 | loss 0.4923 | Train Sat 0.514 | Test Sat 0.510 | Train Acc 0.632 | Test Acc 0.552\n",
            " epoch 1920 | loss 0.4856 | Train Sat 0.514 | Test Sat 0.511 | Train Acc 0.626 | Test Acc 0.534\n",
            " epoch 1940 | loss 0.4839 | Train Sat 0.515 | Test Sat 0.511 | Train Acc 0.640 | Test Acc 0.534\n",
            " epoch 1960 | loss 0.5005 | Train Sat 0.514 | Test Sat 0.510 | Train Acc 0.643 | Test Acc 0.552\n",
            " epoch 1980 | loss 0.4900 | Train Sat 0.514 | Test Sat 0.509 | Train Acc 0.625 | Test Acc 0.552\n"
          ]
        }
      ]
    },
    {
      "cell_type": "code",
      "source": [
        "all_loader = DataLoader(X, y, 64, shuffle=False)\n",
        "compute_accuracy(all_loader)\n",
        "for data, labels in all_loader:\n",
        "    predictions = east(data).detach().numpy()\n",
        "    predictions = np.argmax(predictions, axis=1)\n",
        "    print(predictions, labels)"
      ],
      "metadata": {
        "colab": {
          "base_uri": "https://localhost:8080/"
        },
        "id": "zACDKJkAL2Py",
        "outputId": "b38a99ba-f713-48cb-b88b-e6f0e71ac1fd"
      },
      "execution_count": null,
      "outputs": [
        {
          "output_type": "stream",
          "name": "stdout",
          "text": [
            "[0 0 0 0 0 0 0 0 0 0 0 0 0 0 0 0 0 0 0 0 0 0 0 0 0 0 0 0 0 0 0 0 0 0 0 0 0\n",
            " 0 0 0 0 0 0 0 0 0 0 0 0 0 0 0 0 0 0 0 0 0 0 0 0 0 0 0] tensor([0., 0., 0., 0., 0., 0., 0., 0., 0., 0., 0., 0., 0., 0., 0., 0., 0., 0.,\n",
            "        0., 0., 0., 0., 0., 0., 0., 0., 0., 0., 0., 0., 0., 0., 1., 1., 1., 1.,\n",
            "        1., 1., 1., 1., 1., 1., 1., 1., 1., 1., 1., 1., 1., 1., 1., 1., 1., 1.,\n",
            "        1., 1., 1., 1., 1., 1., 1., 1., 1., 1.])\n",
            "[0 0 0 0 0 0 0 0 0 0 0 0 0 0 0 0 0 0 0 0 0 0 0 0 0 0 0 0 0 0 0 0 0 0 0 0 0\n",
            " 0 0 0 0 0 0 0 0 0 0 0 0 0 0 0 0 0 0 0 0 0 0 0 0 0 0 0] tensor([0., 0., 0., 0., 0., 0., 0., 0., 0., 0., 0., 0., 0., 0., 0., 0., 0., 0.,\n",
            "        0., 0., 0., 0., 0., 0., 0., 0., 0., 0., 0., 0., 0., 0., 1., 1., 1., 1.,\n",
            "        1., 1., 1., 1., 1., 1., 1., 1., 1., 1., 1., 1., 1., 1., 1., 1., 1., 1.,\n",
            "        1., 1., 1., 1., 1., 1., 1., 1., 1., 1.])\n",
            "[0 0 0 0 0 0 0 0 0 0 0 0 0 0 0 0 0 0 0 0 0 0 0 1 0 0 0 0 0 0 0 1 0 0 0 0 0\n",
            " 0 0 0 0 0 0 0 1 1 1 1 1 1 1 1 1 1 1 1 1 1 1 1 1 1 1 1] tensor([0., 0., 0., 0., 0., 0., 0., 0., 0., 0., 0., 0., 0., 0., 0., 0., 0., 0.,\n",
            "        0., 0., 0., 0., 0., 0., 0., 0., 0., 0., 0., 0., 0., 0., 1., 1., 1., 1.,\n",
            "        1., 1., 1., 1., 1., 1., 1., 1., 1., 1., 1., 1., 1., 1., 1., 1., 1., 1.,\n",
            "        1., 1., 1., 1., 1., 1., 1., 1., 1., 1.])\n",
            "[1 0 0 1 1 0 0 0 0 1 1 0 0 0 0 0 0 1 1 0 0 1 1 0 1 0 0 0 1 0 1 1 1 1 1 1 1\n",
            " 1 1 1 1 1 1 1 1 1 1 1 1 1 1 1 1 1 1 1 1 1 1 1 1 1 1 1] tensor([0., 0., 0., 0., 0., 0., 0., 0., 0., 0., 0., 0., 0., 0., 0., 0., 0., 0.,\n",
            "        0., 0., 0., 0., 0., 0., 0., 0., 0., 0., 0., 0., 0., 0., 1., 1., 1., 1.,\n",
            "        1., 1., 1., 1., 1., 1., 1., 1., 1., 1., 1., 1., 1., 1., 1., 1., 1., 1.,\n",
            "        1., 1., 1., 1., 1., 1., 1., 1., 1., 1.])\n",
            "[0 1 1 0 1 1 1 0 1 1 1 0 1 1 1 1 1 1 1 0 1 1 1 1 1 1 1 1 1 1 1 1 1 1 1 1 1\n",
            " 1 1 1 1 1 1 1 1 1 1 1] tensor([0., 0., 0., 0., 0., 0., 0., 0., 0., 0., 0., 0., 0., 0., 0., 0., 0., 0.,\n",
            "        0., 0., 0., 0., 0., 0., 1., 1., 1., 1., 1., 1., 1., 1., 1., 1., 1., 1.,\n",
            "        1., 1., 1., 1., 1., 1., 1., 1., 1., 1., 1., 1.])\n"
          ]
        }
      ]
    },
    {
      "cell_type": "code",
      "source": [],
      "metadata": {
        "id": "xZZVfdTwTeEk"
      },
      "execution_count": null,
      "outputs": []
    }
  ]
}